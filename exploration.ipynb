{
 "cells": [
  {
   "cell_type": "code",
   "execution_count": 150,
   "metadata": {},
   "outputs": [],
   "source": [
    "import pandas as pd\n",
    "import numpy as np\n",
    "from matplotlib import pyplot as plt\n",
    "import os"
   ]
  },
  {
   "cell_type": "code",
   "execution_count": 151,
   "metadata": {},
   "outputs": [
    {
     "data": {
      "text/html": [
       "<div>\n",
       "<style scoped>\n",
       "    .dataframe tbody tr th:only-of-type {\n",
       "        vertical-align: middle;\n",
       "    }\n",
       "\n",
       "    .dataframe tbody tr th {\n",
       "        vertical-align: top;\n",
       "    }\n",
       "\n",
       "    .dataframe thead th {\n",
       "        text-align: right;\n",
       "    }\n",
       "</style>\n",
       "<table border=\"1\" class=\"dataframe\">\n",
       "  <thead>\n",
       "    <tr style=\"text-align: right;\">\n",
       "      <th></th>\n",
       "      <th>level_0</th>\n",
       "      <th>index</th>\n",
       "      <th>timestamp</th>\n",
       "      <th>rssi</th>\n",
       "      <th>frequency</th>\n",
       "      <th>iq</th>\n",
       "      <th>Switch Order</th>\n",
       "      <th>Angle</th>\n",
       "      <th>Antenna</th>\n",
       "      <th>TAG</th>\n",
       "      <th>Entrada</th>\n",
       "    </tr>\n",
       "  </thead>\n",
       "  <tbody>\n",
       "    <tr>\n",
       "      <th>9096</th>\n",
       "      <td>9096</td>\n",
       "      <td>0</td>\n",
       "      <td>2024-08-22 15:16:16.275000+00:00</td>\n",
       "      <td>-67</td>\n",
       "      <td>2426</td>\n",
       "      <td>[-142, -137, 120, -126, 126, 139, -167, 104, -...</td>\n",
       "      <td>2-2-0-5-6</td>\n",
       "      <td>0</td>\n",
       "      <td>1</td>\n",
       "      <td>A</td>\n",
       "      <td>1</td>\n",
       "    </tr>\n",
       "    <tr>\n",
       "      <th>9097</th>\n",
       "      <td>9097</td>\n",
       "      <td>1</td>\n",
       "      <td>2024-08-22 15:16:16.779000+00:00</td>\n",
       "      <td>-58</td>\n",
       "      <td>2402</td>\n",
       "      <td>[-80, 141, -131, -103, 101, -130, 118, 114, -1...</td>\n",
       "      <td>2-2-0-5-6</td>\n",
       "      <td>0</td>\n",
       "      <td>1</td>\n",
       "      <td>A</td>\n",
       "      <td>1</td>\n",
       "    </tr>\n",
       "    <tr>\n",
       "      <th>9098</th>\n",
       "      <td>9098</td>\n",
       "      <td>2</td>\n",
       "      <td>2024-08-22 15:16:17.292000+00:00</td>\n",
       "      <td>-62</td>\n",
       "      <td>2480</td>\n",
       "      <td>[-191, 41, -39, -193, 189, -37, 18, 189, -200,...</td>\n",
       "      <td>2-2-0-5-6</td>\n",
       "      <td>0</td>\n",
       "      <td>1</td>\n",
       "      <td>A</td>\n",
       "      <td>1</td>\n",
       "    </tr>\n",
       "    <tr>\n",
       "      <th>9099</th>\n",
       "      <td>9099</td>\n",
       "      <td>3</td>\n",
       "      <td>2024-08-22 15:16:17.797000+00:00</td>\n",
       "      <td>-65</td>\n",
       "      <td>2426</td>\n",
       "      <td>[-124, 130, -114, -138, 137, -130, 113, 136, -...</td>\n",
       "      <td>2-2-0-5-6</td>\n",
       "      <td>0</td>\n",
       "      <td>1</td>\n",
       "      <td>A</td>\n",
       "      <td>1</td>\n",
       "    </tr>\n",
       "    <tr>\n",
       "      <th>9100</th>\n",
       "      <td>9100</td>\n",
       "      <td>4</td>\n",
       "      <td>2024-08-22 15:16:18.251000+00:00</td>\n",
       "      <td>-61</td>\n",
       "      <td>2480</td>\n",
       "      <td>[-181, -66, 63, -189, 179, 69, -84, 168, -152,...</td>\n",
       "      <td>2-2-0-5-6</td>\n",
       "      <td>0</td>\n",
       "      <td>1</td>\n",
       "      <td>A</td>\n",
       "      <td>1</td>\n",
       "    </tr>\n",
       "    <tr>\n",
       "      <th>...</th>\n",
       "      <td>...</td>\n",
       "      <td>...</td>\n",
       "      <td>...</td>\n",
       "      <td>...</td>\n",
       "      <td>...</td>\n",
       "      <td>...</td>\n",
       "      <td>...</td>\n",
       "      <td>...</td>\n",
       "      <td>...</td>\n",
       "      <td>...</td>\n",
       "      <td>...</td>\n",
       "    </tr>\n",
       "    <tr>\n",
       "      <th>18957</th>\n",
       "      <td>18957</td>\n",
       "      <td>230</td>\n",
       "      <td>2024-08-23 10:24:15.812000+00:00</td>\n",
       "      <td>-55</td>\n",
       "      <td>2402</td>\n",
       "      <td>[180, -64, 5, 186, -196, -9, 31, -183, 171, 88...</td>\n",
       "      <td>2-2-0-5-6</td>\n",
       "      <td>90</td>\n",
       "      <td>2</td>\n",
       "      <td>C</td>\n",
       "      <td>2</td>\n",
       "    </tr>\n",
       "    <tr>\n",
       "      <th>18958</th>\n",
       "      <td>18958</td>\n",
       "      <td>231</td>\n",
       "      <td>2024-08-23 10:24:16.305000+00:00</td>\n",
       "      <td>-56</td>\n",
       "      <td>2426</td>\n",
       "      <td>[148, 115, -134, 131, -116, -141, 163, -84, 63...</td>\n",
       "      <td>2-2-0-5-6</td>\n",
       "      <td>90</td>\n",
       "      <td>2</td>\n",
       "      <td>C</td>\n",
       "      <td>2</td>\n",
       "    </tr>\n",
       "    <tr>\n",
       "      <th>18959</th>\n",
       "      <td>18959</td>\n",
       "      <td>232</td>\n",
       "      <td>2024-08-23 10:24:16.820000+00:00</td>\n",
       "      <td>-62</td>\n",
       "      <td>2480</td>\n",
       "      <td>[-64, 153, -151, -87, 113, -133, 125, 117, -13...</td>\n",
       "      <td>2-2-0-5-6</td>\n",
       "      <td>90</td>\n",
       "      <td>2</td>\n",
       "      <td>C</td>\n",
       "      <td>2</td>\n",
       "    </tr>\n",
       "    <tr>\n",
       "      <th>18960</th>\n",
       "      <td>18960</td>\n",
       "      <td>233</td>\n",
       "      <td>2024-08-23 10:24:17.334000+00:00</td>\n",
       "      <td>-63</td>\n",
       "      <td>2480</td>\n",
       "      <td>[-155, -6, 6, -159, 158, 64, -86, 160, -110, -...</td>\n",
       "      <td>2-2-0-5-6</td>\n",
       "      <td>90</td>\n",
       "      <td>2</td>\n",
       "      <td>C</td>\n",
       "      <td>2</td>\n",
       "    </tr>\n",
       "    <tr>\n",
       "      <th>18961</th>\n",
       "      <td>18961</td>\n",
       "      <td>234</td>\n",
       "      <td>2024-08-23 10:24:17.839000+00:00</td>\n",
       "      <td>-55</td>\n",
       "      <td>2402</td>\n",
       "      <td>[-142, 104, -55, -164, 190, -47, 34, 178, -186...</td>\n",
       "      <td>2-2-0-5-6</td>\n",
       "      <td>90</td>\n",
       "      <td>2</td>\n",
       "      <td>C</td>\n",
       "      <td>2</td>\n",
       "    </tr>\n",
       "  </tbody>\n",
       "</table>\n",
       "<p>9866 rows × 11 columns</p>\n",
       "</div>"
      ],
      "text/plain": [
       "       level_0  index                        timestamp  rssi  frequency  \\\n",
       "9096      9096      0 2024-08-22 15:16:16.275000+00:00   -67       2426   \n",
       "9097      9097      1 2024-08-22 15:16:16.779000+00:00   -58       2402   \n",
       "9098      9098      2 2024-08-22 15:16:17.292000+00:00   -62       2480   \n",
       "9099      9099      3 2024-08-22 15:16:17.797000+00:00   -65       2426   \n",
       "9100      9100      4 2024-08-22 15:16:18.251000+00:00   -61       2480   \n",
       "...        ...    ...                              ...   ...        ...   \n",
       "18957    18957    230 2024-08-23 10:24:15.812000+00:00   -55       2402   \n",
       "18958    18958    231 2024-08-23 10:24:16.305000+00:00   -56       2426   \n",
       "18959    18959    232 2024-08-23 10:24:16.820000+00:00   -62       2480   \n",
       "18960    18960    233 2024-08-23 10:24:17.334000+00:00   -63       2480   \n",
       "18961    18961    234 2024-08-23 10:24:17.839000+00:00   -55       2402   \n",
       "\n",
       "                                                      iq Switch Order  Angle  \\\n",
       "9096   [-142, -137, 120, -126, 126, 139, -167, 104, -...    2-2-0-5-6      0   \n",
       "9097   [-80, 141, -131, -103, 101, -130, 118, 114, -1...    2-2-0-5-6      0   \n",
       "9098   [-191, 41, -39, -193, 189, -37, 18, 189, -200,...    2-2-0-5-6      0   \n",
       "9099   [-124, 130, -114, -138, 137, -130, 113, 136, -...    2-2-0-5-6      0   \n",
       "9100   [-181, -66, 63, -189, 179, 69, -84, 168, -152,...    2-2-0-5-6      0   \n",
       "...                                                  ...          ...    ...   \n",
       "18957  [180, -64, 5, 186, -196, -9, 31, -183, 171, 88...    2-2-0-5-6     90   \n",
       "18958  [148, 115, -134, 131, -116, -141, 163, -84, 63...    2-2-0-5-6     90   \n",
       "18959  [-64, 153, -151, -87, 113, -133, 125, 117, -13...    2-2-0-5-6     90   \n",
       "18960  [-155, -6, 6, -159, 158, 64, -86, 160, -110, -...    2-2-0-5-6     90   \n",
       "18961  [-142, 104, -55, -164, 190, -47, 34, 178, -186...    2-2-0-5-6     90   \n",
       "\n",
       "       Antenna TAG  Entrada  \n",
       "9096         1   A        1  \n",
       "9097         1   A        1  \n",
       "9098         1   A        1  \n",
       "9099         1   A        1  \n",
       "9100         1   A        1  \n",
       "...        ...  ..      ...  \n",
       "18957        2   C        2  \n",
       "18958        2   C        2  \n",
       "18959        2   C        2  \n",
       "18960        2   C        2  \n",
       "18961        2   C        2  \n",
       "\n",
       "[9866 rows x 11 columns]"
      ]
     },
     "execution_count": 151,
     "metadata": {},
     "output_type": "execute_result"
    }
   ],
   "source": [
    "data = pd.read_json(\"./folder/data.json\")\n",
    "data = data[data[\"Switch Order\"]== \"2-2-0-5-6\"]\n",
    "data"
   ]
  },
  {
   "cell_type": "code",
   "execution_count": 152,
   "metadata": {},
   "outputs": [],
   "source": [
    "def to_plus_minus_pi(angle, deg = True):\n",
    "    ''' Mantém o ângulo entre +- 180/pi '''\n",
    "    factor = 180 if deg else np.pi\n",
    "    while angle >= factor:\n",
    "        angle -= 2 * factor\n",
    "    while angle < -factor:\n",
    "        angle += 2 * factor\n",
    "    return angle"
   ]
  },
  {
   "cell_type": "code",
   "execution_count": 84,
   "metadata": {},
   "outputs": [
    {
     "data": {
      "text/plain": [
       "level_0                                                     22000\n",
       "index                                                         216\n",
       "timestamp                        2024-08-23 15:01:59.898000+00:00\n",
       "rssi                                                          -60\n",
       "frequency                                                    2402\n",
       "iq              [143, -133, 107, 160, -181, 88, -41, -191, 204...\n",
       "Switch Order                                           6-6-4-9-10\n",
       "Angle                                                         150\n",
       "Antenna                                                         2\n",
       "TAG                                                             B\n",
       "Entrada                                                         2\n",
       "Name: 22000, dtype: object"
      ]
     },
     "execution_count": 84,
     "metadata": {},
     "output_type": "execute_result"
    }
   ],
   "source": [
    "sample = data.iloc[22000]\n",
    "sample"
   ]
  },
  {
   "cell_type": "code",
   "execution_count": 85,
   "metadata": {},
   "outputs": [],
   "source": [
    "iq = sample[\"iq\"]\n",
    "switch_order = sample[\"Switch Order\"]\n",
    "order = switch_order.split(\"-\")"
   ]
  },
  {
   "cell_type": "code",
   "execution_count": 86,
   "metadata": {},
   "outputs": [
    {
     "data": {
      "text/plain": [
       "array([ 143.-133.j,  107.+160.j, -181. +88.j,  -41.-191.j,  204. -34.j,\n",
       "          9.+195.j, -194. -22.j,   65.-181.j])"
      ]
     },
     "execution_count": 86,
     "metadata": {},
     "output_type": "execute_result"
    }
   ],
   "source": [
    "ref_samples = [ np.array([ complex(iq[i], iq[i+1]) for i in range(0,15,2) ]) for  ] \n"
   ]
  },
  {
   "cell_type": "code",
   "execution_count": 99,
   "metadata": {},
   "outputs": [
    {
     "data": {
      "text/plain": [
       "array([ 0.00000000e+00,  1.27877162e-01,  2.53654584e-01,  3.75267005e-01,\n",
       "        4.90717552e-01,  5.98110530e-01,  6.95682551e-01,  7.81831482e-01,\n",
       "        8.55142763e-01,  9.14412623e-01,  9.58667853e-01,  9.87181783e-01,\n",
       "        9.99486216e-01,  9.95379113e-01,  9.74927912e-01,  9.38468422e-01,\n",
       "        8.86599306e-01,  8.20172255e-01,  7.40277997e-01,  6.48228395e-01,\n",
       "        5.45534901e-01,  4.33883739e-01,  3.15108218e-01,  1.91158629e-01,\n",
       "        6.40702200e-02, -6.40702200e-02, -1.91158629e-01, -3.15108218e-01,\n",
       "       -4.33883739e-01, -5.45534901e-01, -6.48228395e-01, -7.40277997e-01,\n",
       "       -8.20172255e-01, -8.86599306e-01, -9.38468422e-01, -9.74927912e-01,\n",
       "       -9.95379113e-01, -9.99486216e-01, -9.87181783e-01, -9.58667853e-01,\n",
       "       -9.14412623e-01, -8.55142763e-01, -7.81831482e-01, -6.95682551e-01,\n",
       "       -5.98110530e-01, -4.90717552e-01, -3.75267005e-01, -2.53654584e-01,\n",
       "       -1.27877162e-01, -2.44929360e-16])"
      ]
     },
     "execution_count": 99,
     "metadata": {},
     "output_type": "execute_result"
    }
   ],
   "source": [
    "\n",
    "fre=2400_000_000 \n",
    "sw= 500_000\n"
   ]
  },
  {
   "cell_type": "code",
   "execution_count": 104,
   "metadata": {},
   "outputs": [
    {
     "data": {
      "text/plain": [
       "4800.0"
      ]
     },
     "execution_count": 104,
     "metadata": {},
     "output_type": "execute_result"
    }
   ],
   "source": [
    "(2400e6)/(1/2e-6) "
   ]
  },
  {
   "cell_type": "markdown",
   "metadata": {},
   "source": []
  },
  {
   "cell_type": "code",
   "execution_count": 142,
   "metadata": {},
   "outputs": [],
   "source": [
    "sample = 90\n",
    "phase = 70\n",
    "iq =complex( np.cos(2*np.pi*2480*2e-6*sample+70), np.sin(2*np.pi*2480*2e-6*sample+70))\n",
    "iq2 =complex( np.cos(2*np.pi*2480*2e-6*(sample+1)+70), np.sin(2*np.pi*2480*2e-6*(sample+1)+70))\n",
    "np.rad2deg(np.angle(iq2) - np.angle(iq))"
   ]
  },
  {
   "cell_type": "code",
   "execution_count": null,
   "metadata": {},
   "outputs": [],
   "source": []
  },
  {
   "cell_type": "code",
   "execution_count": null,
   "metadata": {},
   "outputs": [],
   "source": []
  }
 ],
 "metadata": {
  "kernelspec": {
   "display_name": "Python 3",
   "language": "python",
   "name": "python3"
  },
  "language_info": {
   "codemirror_mode": {
    "name": "ipython",
    "version": 3
   },
   "file_extension": ".py",
   "mimetype": "text/x-python",
   "name": "python",
   "nbconvert_exporter": "python",
   "pygments_lexer": "ipython3",
   "version": "3.11.2"
  }
 },
 "nbformat": 4,
 "nbformat_minor": 2
}
