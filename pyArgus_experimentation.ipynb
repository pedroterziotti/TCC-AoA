{
 "cells": [
  {
   "cell_type": "code",
   "execution_count": 1,
   "metadata": {},
   "outputs": [],
   "source": [
    "from pyargus.directionEstimation import *\n",
    "import matplotlib.pyplot as plt\n",
    "import numpy as np\n",
    "%matplotlib inline"
   ]
  },
  {
   "cell_type": "code",
   "execution_count": 17,
   "metadata": {},
   "outputs": [
    {
     "data": {
      "text/html": [
       "<div>\n",
       "<style scoped>\n",
       "    .dataframe tbody tr th:only-of-type {\n",
       "        vertical-align: middle;\n",
       "    }\n",
       "\n",
       "    .dataframe tbody tr th {\n",
       "        vertical-align: top;\n",
       "    }\n",
       "\n",
       "    .dataframe thead th {\n",
       "        text-align: right;\n",
       "    }\n",
       "</style>\n",
       "<table border=\"1\" class=\"dataframe\">\n",
       "  <thead>\n",
       "    <tr style=\"text-align: right;\">\n",
       "      <th></th>\n",
       "      <th>index</th>\n",
       "      <th>mac</th>\n",
       "      <th>timestamp</th>\n",
       "      <th>no</th>\n",
       "      <th>rssi</th>\n",
       "      <th>raw</th>\n",
       "      <th>Angle</th>\n",
       "      <th>Distance</th>\n",
       "      <th>frequency</th>\n",
       "      <th>iq</th>\n",
       "    </tr>\n",
       "  </thead>\n",
       "  <tbody>\n",
       "    <tr>\n",
       "      <th>0</th>\n",
       "      <td>0</td>\n",
       "      <td>c300000a7a63</td>\n",
       "      <td>2024-10-04 15:45:53.217000+00:00</td>\n",
       "      <td>0</td>\n",
       "      <td>-52</td>\n",
       "      <td>0201061bff3906cafb0114fff9ffe200fd000000000000...</td>\n",
       "      <td>90</td>\n",
       "      <td>200</td>\n",
       "      <td>2426</td>\n",
       "      <td>[97, -130, 107, 121, -138, 80, -51, -154, 165,...</td>\n",
       "    </tr>\n",
       "    <tr>\n",
       "      <th>1</th>\n",
       "      <td>1</td>\n",
       "      <td>c300000a7a63</td>\n",
       "      <td>2024-10-04 15:45:53.740000+00:00</td>\n",
       "      <td>0</td>\n",
       "      <td>-55</td>\n",
       "      <td>0201061bff3906cafb0114f9ffe2fffd00000000000000...</td>\n",
       "      <td>90</td>\n",
       "      <td>200</td>\n",
       "      <td>2480</td>\n",
       "      <td>[-155, -73, 94, -150, 115, 121, -139, 98, -52,...</td>\n",
       "    </tr>\n",
       "    <tr>\n",
       "      <th>2</th>\n",
       "      <td>2</td>\n",
       "      <td>c300000a7a63</td>\n",
       "      <td>2024-10-04 15:45:54.273000+00:00</td>\n",
       "      <td>0</td>\n",
       "      <td>-58</td>\n",
       "      <td>0201061bff3906cafb0114f9ffe4ff0001000000000000...</td>\n",
       "      <td>90</td>\n",
       "      <td>200</td>\n",
       "      <td>2480</td>\n",
       "      <td>[-83, -157, 169, -58, 14, 170, -177, -24, 51, ...</td>\n",
       "    </tr>\n",
       "    <tr>\n",
       "      <th>3</th>\n",
       "      <td>3</td>\n",
       "      <td>c300000a7a63</td>\n",
       "      <td>2024-10-04 15:45:54.786000+00:00</td>\n",
       "      <td>0</td>\n",
       "      <td>-53</td>\n",
       "      <td>0201061bff3906cafb0114f9ffe7ff0001000000000000...</td>\n",
       "      <td>90</td>\n",
       "      <td>200</td>\n",
       "      <td>2402</td>\n",
       "      <td>[-147, -58, 92, -131, 101, 121, -143, 71, -48,...</td>\n",
       "    </tr>\n",
       "    <tr>\n",
       "      <th>4</th>\n",
       "      <td>4</td>\n",
       "      <td>c300000a7a63</td>\n",
       "      <td>2024-10-04 15:45:55.320000+00:00</td>\n",
       "      <td>0</td>\n",
       "      <td>-53</td>\n",
       "      <td>0201061bff3906cafb0114f9ffe4ff0001000000000000...</td>\n",
       "      <td>90</td>\n",
       "      <td>200</td>\n",
       "      <td>2402</td>\n",
       "      <td>[-88, -144, 141, -55, 4, 155, -159, -19, 36, -...</td>\n",
       "    </tr>\n",
       "    <tr>\n",
       "      <th>...</th>\n",
       "      <td>...</td>\n",
       "      <td>...</td>\n",
       "      <td>...</td>\n",
       "      <td>...</td>\n",
       "      <td>...</td>\n",
       "      <td>...</td>\n",
       "      <td>...</td>\n",
       "      <td>...</td>\n",
       "      <td>...</td>\n",
       "      <td>...</td>\n",
       "    </tr>\n",
       "    <tr>\n",
       "      <th>8609</th>\n",
       "      <td>228</td>\n",
       "      <td>c300000a7a48</td>\n",
       "      <td>2024-10-04 17:05:24.358000+00:00</td>\n",
       "      <td>0</td>\n",
       "      <td>-56</td>\n",
       "      <td>0201061bff3906cafb01140000ecff0001000000000000...</td>\n",
       "      <td>0</td>\n",
       "      <td>100</td>\n",
       "      <td>2402</td>\n",
       "      <td>[-47, 171, -145, -56, 99, -123, 115, 139, -143...</td>\n",
       "    </tr>\n",
       "    <tr>\n",
       "      <th>8610</th>\n",
       "      <td>229</td>\n",
       "      <td>c300000a7a48</td>\n",
       "      <td>2024-10-04 17:05:24.882000+00:00</td>\n",
       "      <td>0</td>\n",
       "      <td>-56</td>\n",
       "      <td>0201061bff3906cafb0114feffecfffd00000000000000...</td>\n",
       "      <td>0</td>\n",
       "      <td>100</td>\n",
       "      <td>2402</td>\n",
       "      <td>[148, 65, -99, 127, -114, -122, 139, -90, 67, ...</td>\n",
       "    </tr>\n",
       "    <tr>\n",
       "      <th>8611</th>\n",
       "      <td>230</td>\n",
       "      <td>c300000a7a48</td>\n",
       "      <td>2024-10-04 17:05:25.667000+00:00</td>\n",
       "      <td>0</td>\n",
       "      <td>-56</td>\n",
       "      <td>0201061bff3906cafb01140000ffe90102000000000000...</td>\n",
       "      <td>0</td>\n",
       "      <td>100</td>\n",
       "      <td>2426</td>\n",
       "      <td>[-142, -72, 101, -125, 115, 114, -127, 90, -59...</td>\n",
       "    </tr>\n",
       "    <tr>\n",
       "      <th>8612</th>\n",
       "      <td>231</td>\n",
       "      <td>c300000a7a48</td>\n",
       "      <td>2024-10-04 17:05:25.928000+00:00</td>\n",
       "      <td>0</td>\n",
       "      <td>-57</td>\n",
       "      <td>0201061bff3906cafb01140000e9ff0201000000000000...</td>\n",
       "      <td>0</td>\n",
       "      <td>100</td>\n",
       "      <td>2426</td>\n",
       "      <td>[-157, -15, 40, -160, 153, 55, -74, 145, -120,...</td>\n",
       "    </tr>\n",
       "    <tr>\n",
       "      <th>8613</th>\n",
       "      <td>232</td>\n",
       "      <td>c300000a7a48</td>\n",
       "      <td>2024-10-04 17:05:26.723000+00:00</td>\n",
       "      <td>0</td>\n",
       "      <td>-59</td>\n",
       "      <td>0201061bff3906cafb01140000ffe90100000000000000...</td>\n",
       "      <td>0</td>\n",
       "      <td>100</td>\n",
       "      <td>2480</td>\n",
       "      <td>[144, -115, 90, 157, -169, 73, -45, -179, 175,...</td>\n",
       "    </tr>\n",
       "  </tbody>\n",
       "</table>\n",
       "<p>8614 rows × 10 columns</p>\n",
       "</div>"
      ],
      "text/plain": [
       "      index           mac                        timestamp  no  rssi  \\\n",
       "0         0  c300000a7a63 2024-10-04 15:45:53.217000+00:00   0   -52   \n",
       "1         1  c300000a7a63 2024-10-04 15:45:53.740000+00:00   0   -55   \n",
       "2         2  c300000a7a63 2024-10-04 15:45:54.273000+00:00   0   -58   \n",
       "3         3  c300000a7a63 2024-10-04 15:45:54.786000+00:00   0   -53   \n",
       "4         4  c300000a7a63 2024-10-04 15:45:55.320000+00:00   0   -53   \n",
       "...     ...           ...                              ...  ..   ...   \n",
       "8609    228  c300000a7a48 2024-10-04 17:05:24.358000+00:00   0   -56   \n",
       "8610    229  c300000a7a48 2024-10-04 17:05:24.882000+00:00   0   -56   \n",
       "8611    230  c300000a7a48 2024-10-04 17:05:25.667000+00:00   0   -56   \n",
       "8612    231  c300000a7a48 2024-10-04 17:05:25.928000+00:00   0   -57   \n",
       "8613    232  c300000a7a48 2024-10-04 17:05:26.723000+00:00   0   -59   \n",
       "\n",
       "                                                    raw  Angle  Distance  \\\n",
       "0     0201061bff3906cafb0114fff9ffe200fd000000000000...     90       200   \n",
       "1     0201061bff3906cafb0114f9ffe2fffd00000000000000...     90       200   \n",
       "2     0201061bff3906cafb0114f9ffe4ff0001000000000000...     90       200   \n",
       "3     0201061bff3906cafb0114f9ffe7ff0001000000000000...     90       200   \n",
       "4     0201061bff3906cafb0114f9ffe4ff0001000000000000...     90       200   \n",
       "...                                                 ...    ...       ...   \n",
       "8609  0201061bff3906cafb01140000ecff0001000000000000...      0       100   \n",
       "8610  0201061bff3906cafb0114feffecfffd00000000000000...      0       100   \n",
       "8611  0201061bff3906cafb01140000ffe90102000000000000...      0       100   \n",
       "8612  0201061bff3906cafb01140000e9ff0201000000000000...      0       100   \n",
       "8613  0201061bff3906cafb01140000ffe90100000000000000...      0       100   \n",
       "\n",
       "      frequency                                                 iq  \n",
       "0          2426  [97, -130, 107, 121, -138, 80, -51, -154, 165,...  \n",
       "1          2480  [-155, -73, 94, -150, 115, 121, -139, 98, -52,...  \n",
       "2          2480  [-83, -157, 169, -58, 14, 170, -177, -24, 51, ...  \n",
       "3          2402  [-147, -58, 92, -131, 101, 121, -143, 71, -48,...  \n",
       "4          2402  [-88, -144, 141, -55, 4, 155, -159, -19, 36, -...  \n",
       "...         ...                                                ...  \n",
       "8609       2402  [-47, 171, -145, -56, 99, -123, 115, 139, -143...  \n",
       "8610       2402  [148, 65, -99, 127, -114, -122, 139, -90, 67, ...  \n",
       "8611       2426  [-142, -72, 101, -125, 115, 114, -127, 90, -59...  \n",
       "8612       2426  [-157, -15, 40, -160, 153, 55, -74, 145, -120,...  \n",
       "8613       2480  [144, -115, 90, 157, -169, 73, -45, -179, 175,...  \n",
       "\n",
       "[8614 rows x 10 columns]"
      ]
     },
     "execution_count": 17,
     "metadata": {},
     "output_type": "execute_result"
    }
   ],
   "source": [
    "import pandas as pd\n",
    "data = pd.read_json(r\"C:\\Users\\pedro\\OneDrive\\Documentos\\Eletrica\\Eletrica\\TCC - Macapá\\TCC-AoA\\teste do final 4-10\\data.json\")\n",
    "data"
   ]
  },
  {
   "cell_type": "code",
   "execution_count": 127,
   "metadata": {},
   "outputs": [
    {
     "data": {
      "text/plain": [
       "[-97,\n",
       " -111,\n",
       " -64,\n",
       " 140,\n",
       " -9,\n",
       " 74,\n",
       " -28,\n",
       " 146,\n",
       " 146,\n",
       " -35,\n",
       " 67,\n",
       " -43,\n",
       " 133,\n",
       " -74,\n",
       " -95,\n",
       " -110,\n",
       " -73,\n",
       " -36,\n",
       " -124,\n",
       " -74,\n",
       " -38,\n",
       " 142,\n",
       " 18,\n",
       " 76,\n",
       " 19,\n",
       " 147,\n",
       " 138,\n",
       " -64,\n",
       " 54,\n",
       " -50,\n",
       " 93,\n",
       " -115,\n",
       " -127,\n",
       " -77,\n",
       " -80,\n",
       " -16,\n",
       " -143,\n",
       " -46,\n",
       " 0,\n",
       " 150,\n",
       " 31,\n",
       " 72,\n",
       " 51,\n",
       " 140,\n",
       " 121,\n",
       " -88,\n",
       " 42,\n",
       " -67,\n",
       " 77,\n",
       " -126,\n",
       " -137,\n",
       " -48,\n",
       " -79,\n",
       " -7,\n",
       " -146,\n",
       " 4,\n",
       " 34,\n",
       " 144,\n",
       " 43,\n",
       " 59,\n",
       " 82,\n",
       " 125,\n",
       " 96,\n",
       " -115,\n",
       " 25,\n",
       " -73,\n",
       " 65,\n",
       " -140]"
      ]
     },
     "execution_count": 127,
     "metadata": {},
     "output_type": "execute_result"
    }
   ],
   "source": [
    "sample =data.iloc[np.random.randint(len(data))]\n",
    "iq_samples = sample[\"iq\"][16:]\n",
    "iq_samples"
   ]
  },
  {
   "cell_type": "code",
   "execution_count": 128,
   "metadata": {},
   "outputs": [
    {
     "data": {
      "text/plain": [
       "[(-97-111j),\n",
       " (-64+140j),\n",
       " (-9+74j),\n",
       " (-28+146j),\n",
       " (146-35j),\n",
       " (67-43j),\n",
       " (133-74j),\n",
       " (-95-110j),\n",
       " (-73-36j),\n",
       " (-124-74j),\n",
       " (-38+142j),\n",
       " (18+76j),\n",
       " (19+147j),\n",
       " (138-64j),\n",
       " (54-50j),\n",
       " (93-115j),\n",
       " (-127-77j),\n",
       " (-80-16j),\n",
       " (-143-46j),\n",
       " 150j,\n",
       " (31+72j),\n",
       " (51+140j),\n",
       " (121-88j),\n",
       " (42-67j),\n",
       " (77-126j),\n",
       " (-137-48j),\n",
       " (-79-7j),\n",
       " (-146+4j),\n",
       " (34+144j),\n",
       " (43+59j),\n",
       " (82+125j),\n",
       " (96-115j),\n",
       " (25-73j),\n",
       " (65-140j)]"
      ]
     },
     "execution_count": 128,
     "metadata": {},
     "output_type": "execute_result"
    }
   ],
   "source": [
    "iq_samplesc = [complex(iq_samples[i],iq_samples[i+1]) for i in range(0,len(iq_samples),2)]\n",
    "iq_samplesc"
   ]
  },
  {
   "cell_type": "code",
   "execution_count": 129,
   "metadata": {},
   "outputs": [
    {
     "data": {
      "text/plain": [
       "array([[ -97.-111.j,  -64.+140.j,   -9. +74.j],\n",
       "       [ -28.+146.j,  146. -35.j,   67. -43.j],\n",
       "       [ 133. -74.j,  -95.-110.j,  -73. -36.j],\n",
       "       [-124. -74.j,  -38.+142.j,   18. +76.j],\n",
       "       [  19.+147.j,  138. -64.j,   54. -50.j],\n",
       "       [  93.-115.j, -127. -77.j,  -80. -16.j],\n",
       "       [-143. -46.j,    0.+150.j,   31. +72.j],\n",
       "       [  51.+140.j,  121. -88.j,   42. -67.j],\n",
       "       [  77.-126.j, -137. -48.j,  -79.  -7.j],\n",
       "       [-146.  +4.j,   34.+144.j,   43. +59.j],\n",
       "       [  82.+125.j,   96.-115.j,   25. -73.j]])"
      ]
     },
     "execution_count": 129,
     "metadata": {},
     "output_type": "execute_result"
    }
   ],
   "source": [
    "matrix = [iq_samplesc[i:i+3] for i in range(0,len(iq_samplesc)-3,3)]\n",
    "matrix = np.array(matrix)\n",
    "matrix"
   ]
  },
  {
   "cell_type": "code",
   "execution_count": 130,
   "metadata": {},
   "outputs": [],
   "source": [
    "d = 50/125 # Inter element spacing [lambda]\n",
    "M = 3  # number of antenna elements in the antenna system (ULA)\n",
    "N = 2**12  # sample size used for the simulation          \n",
    "theta = 60 # incident angle of the test signal [deg]\n",
    "    \n",
    "# Array response vectors of the test signal\n",
    "a = np.exp(np.arange(0,M,1)*1j*2*np.pi*d*np.cos(np.deg2rad(theta)))"
   ]
  },
  {
   "cell_type": "code",
   "execution_count": 131,
   "metadata": {},
   "outputs": [
    {
     "name": "stdout",
     "output_type": "stream",
     "text": [
      "Signal is received from the front: a= [1.+0.0e+00j 1.+1.5e-16j 1.+3.1e-16j]\n",
      "Signal is received from the side: a= [ 1. +0.j  -0.8+0.6j  0.3-1.j ]\n",
      "Signal is received on 60 deg: a= [ 1. +0.j   0.3+1.j  -0.8+0.6j]\n"
     ]
    }
   ],
   "source": [
    "a_90 = np.exp(np.arange(0,M,1)*1j*2*np.pi*d*np.cos(np.deg2rad(90)))\n",
    "a_0 = np.exp(np.arange(0,M,1)*1j*2*np.pi*d*np.cos(np.deg2rad(0)))\n",
    "a_60 = np.exp(np.arange(0,M,1)*1j*2*np.pi*d*np.cos(np.deg2rad(60)))\n",
    "\n",
    "# To display only the first fractional digit\n",
    "np.set_printoptions(precision=1) \n",
    "\n",
    "print(\"Signal is received from the front: a=\",a_90)\n",
    "print(\"Signal is received from the side: a=\",a_0)\n",
    "print(\"Signal is received on 60 deg: a=\",a_60)"
   ]
  },
  {
   "cell_type": "code",
   "execution_count": 132,
   "metadata": {},
   "outputs": [],
   "source": [
    "# Array response vectors of the test signal\n",
    "a = np.exp(np.arange(0,M,1)*1j*2*np.pi*d*np.cos(np.deg2rad(theta)))\n",
    "\n",
    "# Generate multichannel test signal \n",
    "soi = np.random.normal(0,1,N)  # Signal of Interest\n",
    "soi_matrix  = np.outer( soi, a).T \n",
    "\n",
    "# Generate multichannel uncorrelated noise\n",
    "noise = np.random.normal(0,np.sqrt(10**-1),(M,N))\n",
    "\n",
    "# Create received signal array\n",
    "rec_signal = soi_matrix + noise \n",
    "rec_signal = matrix.T"
   ]
  },
  {
   "cell_type": "code",
   "execution_count": 133,
   "metadata": {},
   "outputs": [
    {
     "data": {
      "text/plain": [
       "array([[21994.8    +0.j , -6091.3+21163.1j, -6874.6 +9197.3j],\n",
       "       [-6091.3-21163.1j, 22223.5    +0.j , 10814.5 +4113.5j],\n",
       "       [-6874.6 -9197.3j, 10814.5 -4113.5j,  6060.4    +0.j ]])"
      ]
     },
     "execution_count": 133,
     "metadata": {},
     "output_type": "execute_result"
    }
   ],
   "source": [
    "R = corr_matrix_estimate(rec_signal.T, imp=\"mem_eff\")\n",
    "R"
   ]
  },
  {
   "cell_type": "code",
   "execution_count": 134,
   "metadata": {},
   "outputs": [],
   "source": [
    "array_alignment = np.arange(0, M, 1)* d\n",
    "incident_angles= np.arange(0,181,1)\n",
    "ula_scanning_vectors = gen_ula_scanning_vectors(array_alignment, incident_angles)"
   ]
  },
  {
   "cell_type": "code",
   "execution_count": 135,
   "metadata": {},
   "outputs": [
    {
     "name": "stdout",
     "output_type": "stream",
     "text": [
      "Minimum alias angle 0.00 \n",
      "Maximum alias angle 0.00 \n"
     ]
    },
    {
     "data": {
      "text/plain": [
       "<Axes: title={'center': 'Direction of Arrival estimation '}, xlabel='Incident angle [deg]', ylabel='Amplitude [dB]'>"
      ]
     },
     "execution_count": 135,
     "metadata": {},
     "output_type": "execute_result"
    },
    {
     "data": {
      "image/png": "[encoded data removed]",
      "text/plain": [
       "<Figure size 640x480 with 1 Axes>"
      ]
     },
     "metadata": {},
     "output_type": "display_data"
    }
   ],
   "source": [
    "Bartlett = DOA_MUSIC(R,ula_scanning_vectors, signal_dimension = 1)\n",
    "DOA_plot(Bartlett, incident_angles, log_scale_min = -50)"
   ]
  },
  {
   "cell_type": "code",
   "execution_count": 136,
   "metadata": {},
   "outputs": [
    {
     "data": {
      "text/plain": [
       "120"
      ]
     },
     "execution_count": 136,
     "metadata": {},
     "output_type": "execute_result"
    }
   ],
   "source": [
    "sample[\"Angle\"]"
   ]
  },
  {
   "cell_type": "code",
   "execution_count": 137,
   "metadata": {},
   "outputs": [
    {
     "data": {
      "text/plain": [
       "119"
      ]
     },
     "execution_count": 137,
     "metadata": {},
     "output_type": "execute_result"
    }
   ],
   "source": [
    "incident_angles[np.argmax(Bartlett)]"
   ]
  },
  {
   "cell_type": "code",
   "execution_count": null,
   "metadata": {},
   "outputs": [],
   "source": []
  }
 ],
 "metadata": {
  "kernelspec": {
   "display_name": "Python 3",
   "language": "python",
   "name": "python3"
  },
  "language_info": {
   "codemirror_mode": {
    "name": "ipython",
    "version": 3
   },
   "file_extension": ".py",
   "mimetype": "text/x-python",
   "name": "python",
   "nbconvert_exporter": "python",
   "pygments_lexer": "ipython3",
   "version": "3.11.2"
  }
 },
 "nbformat": 4,
 "nbformat_minor": 2
}
