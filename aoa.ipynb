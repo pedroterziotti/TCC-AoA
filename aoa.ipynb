{
 "cells": [
  {
   "cell_type": "code",
   "execution_count": 2,
   "metadata": {},
   "outputs": [],
   "source": [
    "import pandas as pd\n",
    "import numpy as np\n",
    "from matplotlib import pyplot as plt"
   ]
  },
  {
   "cell_type": "code",
   "execution_count": 3,
   "metadata": {},
   "outputs": [],
   "source": [
    "data = pd.read_json(\"./folder/data.json\")\n",
    "del data[\"level_0\"]\n",
    "del data[\"index\"]\n",
    "data=data.reset_index()\n",
    "data= data[data[\"Switch Order\"] == \"2-2-0-5-6\"]\n",
    "sample = data.sample()"
   ]
  },
  {
   "cell_type": "markdown",
   "metadata": {},
   "source": [
    "## Validating the phases function"
   ]
  },
  {
   "cell_type": "code",
   "execution_count": null,
   "metadata": {},
   "outputs": [],
   "source": []
  },
  {
   "cell_type": "code",
   "execution_count": 4,
   "metadata": {},
   "outputs": [],
   "source": [
    "def ref_sampler(iq: list):\n",
    "    data = []\n",
    "    for i in range(0,16,2):\n",
    "        data.append(np.angle(complex(iq[i],iq[i+1])))\n",
    "    return np.array(data)"
   ]
  },
  {
   "cell_type": "code",
   "execution_count": 5,
   "metadata": {},
   "outputs": [],
   "source": [
    "# Validating the phases func\n",
    "iq= sample[\"iq\"].iloc[0]\n",
    "sample_phases = [ np.angle(complex( iq[i],iq[i+1] )) for i in range(0,len(iq)-1,2) ]"
   ]
  },
  {
   "cell_type": "code",
   "execution_count": 6,
   "metadata": {},
   "outputs": [
    {
     "data": {
      "text/plain": [
       "array([ True,  True,  True,  True,  True,  True,  True,  True])"
      ]
     },
     "execution_count": 6,
     "metadata": {},
     "output_type": "execute_result"
    }
   ],
   "source": [
    "#sample ref\n",
    "ref_sampler(sample[\"iq\"].iloc[0]) == sample_phases[:8]"
   ]
  },
  {
   "cell_type": "markdown",
   "metadata": {},
   "source": [
    "## Validating  PM function"
   ]
  },
  {
   "cell_type": "code",
   "execution_count": 7,
   "metadata": {},
   "outputs": [],
   "source": [
    "def pm(x:float):\n",
    "    #Keeps the angle between +- pi\n",
    "    return (x + np.pi) % (2 * np.pi) - np.pi #coomentg - np.pi to keep it between 0 => 2pi"
   ]
  },
  {
   "cell_type": "code",
   "execution_count": 8,
   "metadata": {},
   "outputs": [
    {
     "data": {
      "text/plain": [
       "-140.0"
      ]
     },
     "execution_count": 8,
     "metadata": {},
     "output_type": "execute_result"
    }
   ],
   "source": [
    "#170 +50 = 220 => -140\n",
    "np.rad2deg(pm(np.deg2rad(170+50)))"
   ]
  },
  {
   "cell_type": "code",
   "execution_count": 9,
   "metadata": {},
   "outputs": [
    {
     "data": {
      "text/plain": [
       "149.99999999999997"
      ]
     },
     "execution_count": 9,
     "metadata": {},
     "output_type": "execute_result"
    }
   ],
   "source": [
    "#-90 -120 = -210 => -150\n",
    "np.rad2deg(pm(np.deg2rad(-90 -120)))"
   ]
  },
  {
   "cell_type": "code",
   "execution_count": 10,
   "metadata": {},
   "outputs": [
    {
     "data": {
      "text/plain": [
       "-19.99999999999998"
      ]
     },
     "execution_count": 10,
     "metadata": {},
     "output_type": "execute_result"
    }
   ],
   "source": [
    "#-20 -360 - 360 = -740 => -20\n",
    "np.rad2deg(pm(np.deg2rad(-20 -360 -360)))"
   ]
  },
  {
   "cell_type": "code",
   "execution_count": 11,
   "metadata": {},
   "outputs": [],
   "source": [
    "pm = np.vectorize(pm)"
   ]
  },
  {
   "cell_type": "markdown",
   "metadata": {},
   "source": [
    "## Validanting antenna phases function"
   ]
  },
  {
   "cell_type": "code",
   "execution_count": 12,
   "metadata": {},
   "outputs": [],
   "source": [
    "# switch pattern => 0-5-6 (12,1,2)\n",
    "# 0: 16/17, 22/23\n",
    "# 5: 18/19, 24/25\n",
    "# 6: 20/21, 26,27\n",
    "# step => 6\n",
    "\n",
    "def antenna_phases(iq:list, start, step=6):\n",
    "    #split phases for each corresponding antenna\n",
    "    data =[]\n",
    "    for i in range(start,len(iq)-1,step):\n",
    "        print(i)\n",
    "        data.append(\n",
    "            np.angle(complex(iq[i],iq[i+1]))\n",
    "        )\n",
    "    return np.array(data)"
   ]
  },
  {
   "cell_type": "code",
   "execution_count": 13,
   "metadata": {},
   "outputs": [
    {
     "name": "stdout",
     "output_type": "stream",
     "text": [
      "16\n",
      "22\n",
      "28\n",
      "34\n",
      "40\n",
      "46\n",
      "52\n",
      "58\n",
      "64\n",
      "70\n",
      "76\n",
      "82\n"
     ]
    }
   ],
   "source": [
    "# first antenna \n",
    "s=antenna_phases(iq,16)"
   ]
  },
  {
   "cell_type": "code",
   "execution_count": 14,
   "metadata": {},
   "outputs": [
    {
     "name": "stdout",
     "output_type": "stream",
     "text": [
      "18\n",
      "24\n",
      "30\n",
      "36\n",
      "42\n",
      "48\n",
      "54\n",
      "60\n",
      "66\n",
      "72\n",
      "78\n"
     ]
    }
   ],
   "source": [
    "# second antenna \n",
    "s=antenna_phases(iq,18)"
   ]
  },
  {
   "cell_type": "code",
   "execution_count": 15,
   "metadata": {},
   "outputs": [
    {
     "name": "stdout",
     "output_type": "stream",
     "text": [
      "20\n",
      "26\n",
      "32\n",
      "38\n",
      "44\n",
      "50\n",
      "56\n",
      "62\n",
      "68\n",
      "74\n",
      "80\n"
     ]
    }
   ],
   "source": [
    "# third antenna \n",
    "s=antenna_phases(iq,20)"
   ]
  },
  {
   "cell_type": "code",
   "execution_count": 16,
   "metadata": {},
   "outputs": [],
   "source": [
    "# switch pattern => 0-5-6 (12,1,2)\n",
    "# 0: 16/17, 22/23\n",
    "# 5: 18/19, 24/25\n",
    "# 6: 20/21, 26,27\n",
    "# step => 6\n",
    "\n",
    "def antenna_phases(iq:list, start, step=6):\n",
    "    #split phases for each corresponding antenna\n",
    "    data =[]\n",
    "    for i in range(start,len(iq)-1,step):\n",
    "        #print(i)\n",
    "        data.append(\n",
    "            np.angle(complex(iq[i],iq[i+1]))\n",
    "        )\n",
    "    return np.array(data)"
   ]
  },
  {
   "cell_type": "code",
   "execution_count": 17,
   "metadata": {},
   "outputs": [
    {
     "data": {
      "text/html": [
       "<div>\n",
       "<style scoped>\n",
       "    .dataframe tbody tr th:only-of-type {\n",
       "        vertical-align: middle;\n",
       "    }\n",
       "\n",
       "    .dataframe tbody tr th {\n",
       "        vertical-align: top;\n",
       "    }\n",
       "\n",
       "    .dataframe thead th {\n",
       "        text-align: right;\n",
       "    }\n",
       "</style>\n",
       "<table border=\"1\" class=\"dataframe\">\n",
       "  <thead>\n",
       "    <tr style=\"text-align: right;\">\n",
       "      <th></th>\n",
       "      <th>index</th>\n",
       "      <th>timestamp</th>\n",
       "      <th>rssi</th>\n",
       "      <th>frequency</th>\n",
       "      <th>iq</th>\n",
       "      <th>Switch Order</th>\n",
       "      <th>Angle</th>\n",
       "      <th>Antenna</th>\n",
       "      <th>TAG</th>\n",
       "      <th>Entrada</th>\n",
       "      <th>pref</th>\n",
       "      <th>p1</th>\n",
       "      <th>p2</th>\n",
       "      <th>p3</th>\n",
       "    </tr>\n",
       "  </thead>\n",
       "  <tbody>\n",
       "    <tr>\n",
       "      <th>9096</th>\n",
       "      <td>9096</td>\n",
       "      <td>2024-08-22 15:16:16.275000+00:00</td>\n",
       "      <td>-67</td>\n",
       "      <td>2426</td>\n",
       "      <td>[-142, -137, 120, -126, 126, 139, -167, 104, -...</td>\n",
       "      <td>2-2-0-5-6</td>\n",
       "      <td>0</td>\n",
       "      <td>1</td>\n",
       "      <td>A</td>\n",
       "      <td>1</td>\n",
       "      <td>[-2.374113718952003, -0.8097835725701669, 0.83...</td>\n",
       "      <td>[-3.1244023699890597, 0.29201954061992613, -2....</td>\n",
       "      <td>[-2.339560165086297, 1.2942492071802545, -1.48...</td>\n",
       "      <td>[-2.494920308070028, 1.040504177328581, -1.707...</td>\n",
       "    </tr>\n",
       "    <tr>\n",
       "      <th>9097</th>\n",
       "      <td>9097</td>\n",
       "      <td>2024-08-22 15:16:16.779000+00:00</td>\n",
       "      <td>-58</td>\n",
       "      <td>2402</td>\n",
       "      <td>[-80, 141, -131, -103, 101, -130, 118, 114, -1...</td>\n",
       "      <td>2-2-0-5-6</td>\n",
       "      <td>0</td>\n",
       "      <td>1</td>\n",
       "      <td>A</td>\n",
       "      <td>1</td>\n",
       "      <td>[2.086882006832048, -2.475286375441511, -0.910...</td>\n",
       "      <td>[2.5894396631342893, -0.17380111908918636, -2....</td>\n",
       "      <td>[2.5262531117844014, -0.34500217720710513, -3....</td>\n",
       "      <td>[2.7041780923641787, -0.02547219651072259, -2....</td>\n",
       "    </tr>\n",
       "    <tr>\n",
       "      <th>9098</th>\n",
       "      <td>9098</td>\n",
       "      <td>2024-08-22 15:16:17.292000+00:00</td>\n",
       "      <td>-62</td>\n",
       "      <td>2480</td>\n",
       "      <td>[-191, 41, -39, -193, 189, -37, 18, 189, -200,...</td>\n",
       "      <td>2-2-0-5-6</td>\n",
       "      <td>0</td>\n",
       "      <td>1</td>\n",
       "      <td>A</td>\n",
       "      <td>1</td>\n",
       "      <td>[2.930141794461651, -1.7701839158823727, -0.19...</td>\n",
       "      <td>[2.2157118618019473, -0.44099776135465124, 3.0...</td>\n",
       "      <td>[2.918561685218235, 0.20333608402827574, -2.40...</td>\n",
       "      <td>[-2.4756234162106834, 1.1441688336680205, -1.5...</td>\n",
       "    </tr>\n",
       "    <tr>\n",
       "      <th>9099</th>\n",
       "      <td>9099</td>\n",
       "      <td>2024-08-22 15:16:17.797000+00:00</td>\n",
       "      <td>-65</td>\n",
       "      <td>2426</td>\n",
       "      <td>[-124, 130, -114, -138, 137, -130, 113, 136, -...</td>\n",
       "      <td>2-2-0-5-6</td>\n",
       "      <td>0</td>\n",
       "      <td>1</td>\n",
       "      <td>A</td>\n",
       "      <td>1</td>\n",
       "      <td>[2.3325768351873943, -2.2612427838495885, -0.7...</td>\n",
       "      <td>[1.5459787281772228, -1.1410340476982082, 2.46...</td>\n",
       "      <td>[2.4309448208736515, -0.31213546609693965, -3....</td>\n",
       "      <td>[2.2930467110880133, -0.4903474940060718, 3.08...</td>\n",
       "    </tr>\n",
       "    <tr>\n",
       "      <th>9100</th>\n",
       "      <td>9100</td>\n",
       "      <td>2024-08-22 15:16:18.251000+00:00</td>\n",
       "      <td>-61</td>\n",
       "      <td>2480</td>\n",
       "      <td>[-181, -66, 63, -189, 179, 69, -84, 168, -152,...</td>\n",
       "      <td>2-2-0-5-6</td>\n",
       "      <td>0</td>\n",
       "      <td>1</td>\n",
       "      <td>A</td>\n",
       "      <td>1</td>\n",
       "      <td>[-2.7919347322783543, -1.2490457723982544, 0.3...</td>\n",
       "      <td>[2.8305943729842524, 0.1959811336361145, -2.68...</td>\n",
       "      <td>[-2.7297853482280767, 0.8404605587711186, -1.8...</td>\n",
       "      <td>[-1.7590178320996674, 1.5042281630190728, -1.1...</td>\n",
       "    </tr>\n",
       "    <tr>\n",
       "      <th>...</th>\n",
       "      <td>...</td>\n",
       "      <td>...</td>\n",
       "      <td>...</td>\n",
       "      <td>...</td>\n",
       "      <td>...</td>\n",
       "      <td>...</td>\n",
       "      <td>...</td>\n",
       "      <td>...</td>\n",
       "      <td>...</td>\n",
       "      <td>...</td>\n",
       "      <td>...</td>\n",
       "      <td>...</td>\n",
       "      <td>...</td>\n",
       "      <td>...</td>\n",
       "    </tr>\n",
       "    <tr>\n",
       "      <th>18957</th>\n",
       "      <td>18957</td>\n",
       "      <td>2024-08-23 10:24:15.812000+00:00</td>\n",
       "      <td>-55</td>\n",
       "      <td>2402</td>\n",
       "      <td>[180, -64, 5, 186, -196, -9, 31, -183, 171, 88...</td>\n",
       "      <td>2-2-0-5-6</td>\n",
       "      <td>90</td>\n",
       "      <td>2</td>\n",
       "      <td>C</td>\n",
       "      <td>2</td>\n",
       "      <td>[-0.34161549064780716, 1.5439210787101398, -3....</td>\n",
       "      <td>[3.141592653589793, 0.9588938923602299, -1.311...</td>\n",
       "      <td>[0.6479307586687755, -1.554038119212659, 2.602...</td>\n",
       "      <td>[-2.1995926132103296, 1.8249807137550402, -0.3...</td>\n",
       "    </tr>\n",
       "    <tr>\n",
       "      <th>18958</th>\n",
       "      <td>18958</td>\n",
       "      <td>2024-08-23 10:24:16.305000+00:00</td>\n",
       "      <td>-56</td>\n",
       "      <td>2426</td>\n",
       "      <td>[148, 115, -134, 131, -116, -141, 163, -84, 63...</td>\n",
       "      <td>2-2-0-5-6</td>\n",
       "      <td>90</td>\n",
       "      <td>2</td>\n",
       "      <td>C</td>\n",
       "      <td>2</td>\n",
       "      <td>[0.660575223166546, 2.367514761325804, -2.2592...</td>\n",
       "      <td>[-2.1763409903998667, 1.8055189392800937, -0.3...</td>\n",
       "      <td>[1.413120336369888, -0.6212445105300607, -3.00...</td>\n",
       "      <td>[-1.3351024479214708, 2.7682907627771343, 0.48...</td>\n",
       "    </tr>\n",
       "    <tr>\n",
       "      <th>18959</th>\n",
       "      <td>18959</td>\n",
       "      <td>2024-08-23 10:24:16.820000+00:00</td>\n",
       "      <td>-62</td>\n",
       "      <td>2480</td>\n",
       "      <td>[-64, 153, -151, -87, 113, -133, 125, 117, -13...</td>\n",
       "      <td>2-2-0-5-6</td>\n",
       "      <td>90</td>\n",
       "      <td>2</td>\n",
       "      <td>C</td>\n",
       "      <td>2</td>\n",
       "      <td>[1.966978911273798, -2.618887835505054, -0.866...</td>\n",
       "      <td>[-0.9532040533357405, -3.026716048172894, 0.90...</td>\n",
       "      <td>[2.8037144653495147, 0.6128202021652414, -1.59...</td>\n",
       "      <td>[0.28297689337281756, -1.968670684412066, 2.25...</td>\n",
       "    </tr>\n",
       "    <tr>\n",
       "      <th>18960</th>\n",
       "      <td>18960</td>\n",
       "      <td>2024-08-23 10:24:17.334000+00:00</td>\n",
       "      <td>-63</td>\n",
       "      <td>2480</td>\n",
       "      <td>[-155, -6, 6, -159, 158, 64, -86, 160, -110, -...</td>\n",
       "      <td>2-2-0-5-6</td>\n",
       "      <td>90</td>\n",
       "      <td>2</td>\n",
       "      <td>C</td>\n",
       "      <td>2</td>\n",
       "      <td>[-3.1029022935043, -1.5330783743280325, 0.3848...</td>\n",
       "      <td>[0.5841785304099635, -1.7008277031365882, 2.18...</td>\n",
       "      <td>[-2.2477111786373736, 2.0971886910213167, -0.1...</td>\n",
       "      <td>[1.6156380418737804, -0.6534263411807619, -2.6...</td>\n",
       "    </tr>\n",
       "    <tr>\n",
       "      <th>18961</th>\n",
       "      <td>18961</td>\n",
       "      <td>2024-08-23 10:24:17.839000+00:00</td>\n",
       "      <td>-55</td>\n",
       "      <td>2402</td>\n",
       "      <td>[-142, 104, -55, -164, 190, -47, 34, 178, -186...</td>\n",
       "      <td>2-2-0-5-6</td>\n",
       "      <td>90</td>\n",
       "      <td>2</td>\n",
       "      <td>C</td>\n",
       "      <td>2</td>\n",
       "      <td>[2.5094546920607996, -1.8943750327197906, -0.2...</td>\n",
       "      <td>[-0.2402672727809385, -2.4844071595590766, 1.6...</td>\n",
       "      <td>[-2.7154609462428208, 1.2567084576677936, -0.8...</td>\n",
       "      <td>[0.6015335774334987, -1.6162196062164735, 2.50...</td>\n",
       "    </tr>\n",
       "  </tbody>\n",
       "</table>\n",
       "<p>9866 rows × 14 columns</p>\n",
       "</div>"
      ],
      "text/plain": [
       "       index                        timestamp  rssi  frequency  \\\n",
       "9096    9096 2024-08-22 15:16:16.275000+00:00   -67       2426   \n",
       "9097    9097 2024-08-22 15:16:16.779000+00:00   -58       2402   \n",
       "9098    9098 2024-08-22 15:16:17.292000+00:00   -62       2480   \n",
       "9099    9099 2024-08-22 15:16:17.797000+00:00   -65       2426   \n",
       "9100    9100 2024-08-22 15:16:18.251000+00:00   -61       2480   \n",
       "...      ...                              ...   ...        ...   \n",
       "18957  18957 2024-08-23 10:24:15.812000+00:00   -55       2402   \n",
       "18958  18958 2024-08-23 10:24:16.305000+00:00   -56       2426   \n",
       "18959  18959 2024-08-23 10:24:16.820000+00:00   -62       2480   \n",
       "18960  18960 2024-08-23 10:24:17.334000+00:00   -63       2480   \n",
       "18961  18961 2024-08-23 10:24:17.839000+00:00   -55       2402   \n",
       "\n",
       "                                                      iq Switch Order  Angle  \\\n",
       "9096   [-142, -137, 120, -126, 126, 139, -167, 104, -...    2-2-0-5-6      0   \n",
       "9097   [-80, 141, -131, -103, 101, -130, 118, 114, -1...    2-2-0-5-6      0   \n",
       "9098   [-191, 41, -39, -193, 189, -37, 18, 189, -200,...    2-2-0-5-6      0   \n",
       "9099   [-124, 130, -114, -138, 137, -130, 113, 136, -...    2-2-0-5-6      0   \n",
       "9100   [-181, -66, 63, -189, 179, 69, -84, 168, -152,...    2-2-0-5-6      0   \n",
       "...                                                  ...          ...    ...   \n",
       "18957  [180, -64, 5, 186, -196, -9, 31, -183, 171, 88...    2-2-0-5-6     90   \n",
       "18958  [148, 115, -134, 131, -116, -141, 163, -84, 63...    2-2-0-5-6     90   \n",
       "18959  [-64, 153, -151, -87, 113, -133, 125, 117, -13...    2-2-0-5-6     90   \n",
       "18960  [-155, -6, 6, -159, 158, 64, -86, 160, -110, -...    2-2-0-5-6     90   \n",
       "18961  [-142, 104, -55, -164, 190, -47, 34, 178, -186...    2-2-0-5-6     90   \n",
       "\n",
       "       Antenna TAG  Entrada  \\\n",
       "9096         1   A        1   \n",
       "9097         1   A        1   \n",
       "9098         1   A        1   \n",
       "9099         1   A        1   \n",
       "9100         1   A        1   \n",
       "...        ...  ..      ...   \n",
       "18957        2   C        2   \n",
       "18958        2   C        2   \n",
       "18959        2   C        2   \n",
       "18960        2   C        2   \n",
       "18961        2   C        2   \n",
       "\n",
       "                                                    pref  \\\n",
       "9096   [-2.374113718952003, -0.8097835725701669, 0.83...   \n",
       "9097   [2.086882006832048, -2.475286375441511, -0.910...   \n",
       "9098   [2.930141794461651, -1.7701839158823727, -0.19...   \n",
       "9099   [2.3325768351873943, -2.2612427838495885, -0.7...   \n",
       "9100   [-2.7919347322783543, -1.2490457723982544, 0.3...   \n",
       "...                                                  ...   \n",
       "18957  [-0.34161549064780716, 1.5439210787101398, -3....   \n",
       "18958  [0.660575223166546, 2.367514761325804, -2.2592...   \n",
       "18959  [1.966978911273798, -2.618887835505054, -0.866...   \n",
       "18960  [-3.1029022935043, -1.5330783743280325, 0.3848...   \n",
       "18961  [2.5094546920607996, -1.8943750327197906, -0.2...   \n",
       "\n",
       "                                                      p1  \\\n",
       "9096   [-3.1244023699890597, 0.29201954061992613, -2....   \n",
       "9097   [2.5894396631342893, -0.17380111908918636, -2....   \n",
       "9098   [2.2157118618019473, -0.44099776135465124, 3.0...   \n",
       "9099   [1.5459787281772228, -1.1410340476982082, 2.46...   \n",
       "9100   [2.8305943729842524, 0.1959811336361145, -2.68...   \n",
       "...                                                  ...   \n",
       "18957  [3.141592653589793, 0.9588938923602299, -1.311...   \n",
       "18958  [-2.1763409903998667, 1.8055189392800937, -0.3...   \n",
       "18959  [-0.9532040533357405, -3.026716048172894, 0.90...   \n",
       "18960  [0.5841785304099635, -1.7008277031365882, 2.18...   \n",
       "18961  [-0.2402672727809385, -2.4844071595590766, 1.6...   \n",
       "\n",
       "                                                      p2  \\\n",
       "9096   [-2.339560165086297, 1.2942492071802545, -1.48...   \n",
       "9097   [2.5262531117844014, -0.34500217720710513, -3....   \n",
       "9098   [2.918561685218235, 0.20333608402827574, -2.40...   \n",
       "9099   [2.4309448208736515, -0.31213546609693965, -3....   \n",
       "9100   [-2.7297853482280767, 0.8404605587711186, -1.8...   \n",
       "...                                                  ...   \n",
       "18957  [0.6479307586687755, -1.554038119212659, 2.602...   \n",
       "18958  [1.413120336369888, -0.6212445105300607, -3.00...   \n",
       "18959  [2.8037144653495147, 0.6128202021652414, -1.59...   \n",
       "18960  [-2.2477111786373736, 2.0971886910213167, -0.1...   \n",
       "18961  [-2.7154609462428208, 1.2567084576677936, -0.8...   \n",
       "\n",
       "                                                      p3  \n",
       "9096   [-2.494920308070028, 1.040504177328581, -1.707...  \n",
       "9097   [2.7041780923641787, -0.02547219651072259, -2....  \n",
       "9098   [-2.4756234162106834, 1.1441688336680205, -1.5...  \n",
       "9099   [2.2930467110880133, -0.4903474940060718, 3.08...  \n",
       "9100   [-1.7590178320996674, 1.5042281630190728, -1.1...  \n",
       "...                                                  ...  \n",
       "18957  [-2.1995926132103296, 1.8249807137550402, -0.3...  \n",
       "18958  [-1.3351024479214708, 2.7682907627771343, 0.48...  \n",
       "18959  [0.28297689337281756, -1.968670684412066, 2.25...  \n",
       "18960  [1.6156380418737804, -0.6534263411807619, -2.6...  \n",
       "18961  [0.6015335774334987, -1.6162196062164735, 2.50...  \n",
       "\n",
       "[9866 rows x 14 columns]"
      ]
     },
     "execution_count": 17,
     "metadata": {},
     "output_type": "execute_result"
    }
   ],
   "source": [
    "data[\"pref\"] = data[\"iq\"].apply(ref_sampler)\n",
    "data[\"p1\"] = data[\"iq\"].apply(antenna_phases,start=16)\n",
    "data[\"p2\"] = data[\"iq\"].apply(antenna_phases,start=18)\n",
    "data[\"p3\"] = data[\"iq\"].apply(antenna_phases,start=20)\n",
    "\n",
    "#first antenna has 1 more sample\n",
    "data[\"p1\"] =  data[\"p1\"].apply(lambda x: x[:11])\n",
    "\n",
    "data"
   ]
  },
  {
   "cell_type": "markdown",
   "metadata": {},
   "source": [
    "# Validating the ref angle step; Expected to be around 90"
   ]
  },
  {
   "cell_type": "code",
   "execution_count": 18,
   "metadata": {},
   "outputs": [
    {
     "name": "stdout",
     "output_type": "stream",
     "text": [
      "Sem outliers:  \n",
      " mean = 96.16523779676554 \n",
      " std = 3.764054185075677\n"
     ]
    },
    {
     "data": {
      "image/png": "[encoded data removed]",
      "text/plain": [
       "<Figure size 640x480 with 1 Axes>"
      ]
     },
     "metadata": {},
     "output_type": "display_data"
    }
   ],
   "source": [
    "# we will always do ahead - before\n",
    "pstep = data[\"pref\"].apply(lambda x: np.rad2deg(pm(x[1:]-x[:-1])))\n",
    "pstep = np.concatenate(pstep.to_numpy())\n",
    "pstep.sort()\n",
    "plt.plot(pstep,\".\")\n",
    "plt.hlines(pstep[5000:65000].mean(),0,len(pstep),'r')\n",
    "print(f\"Sem outliers:  \\n mean = {pstep[5000:65000].mean()} \\n std = {pstep[5000:65000].std()}\")"
   ]
  },
  {
   "cell_type": "code",
   "execution_count": 19,
   "metadata": {},
   "outputs": [],
   "source": [
    "data[\"step\"] = data[\"pref\"].apply(lambda x: (pm(x[1:]-x[:-1])).mean())"
   ]
  },
  {
   "cell_type": "markdown",
   "metadata": {},
   "source": [
    "## Phase diff between each antenna\n",
    "\n"
   ]
  },
  {
   "cell_type": "code",
   "execution_count": 20,
   "metadata": {},
   "outputs": [
    {
     "data": {
      "text/plain": [
       "-3.1244023699890597"
      ]
     },
     "execution_count": 20,
     "metadata": {},
     "output_type": "execute_result"
    }
   ],
   "source": [
    "#1 and 2\n",
    "data[\"p1\"].iloc[0][0]"
   ]
  },
  {
   "cell_type": "code",
   "execution_count": 21,
   "metadata": {},
   "outputs": [
    {
     "data": {
      "text/plain": [
       "-2.339560165086297"
      ]
     },
     "execution_count": 21,
     "metadata": {},
     "output_type": "execute_result"
    }
   ],
   "source": [
    "data[\"p2\"].iloc[0][0]\n"
   ]
  },
  {
   "cell_type": "code",
   "execution_count": 22,
   "metadata": {},
   "outputs": [
    {
     "data": {
      "text/plain": [
       "True"
      ]
     },
     "execution_count": 22,
     "metadata": {},
     "output_type": "execute_result"
    }
   ],
   "source": [
    "pm(data[\"p2\"].iloc[0][0]-data[\"p1\"].iloc[0][0]) == pm((data[\"p2\"]-data[\"p1\"]).iloc[0][0])"
   ]
  },
  {
   "cell_type": "code",
   "execution_count": 23,
   "metadata": {},
   "outputs": [],
   "source": [
    "data[\"p2-p1\"] = ((data[\"p2\"]-data[\"p1\"])).apply(pm)\n",
    "data[\"p3-p2\"] = ((data[\"p3\"]-data[\"p2\"])).apply(pm)\n",
    "data[\"p3-p1\"] = ((data[\"p3\"]-data[\"p1\"])).apply(pm)"
   ]
  },
  {
   "cell_type": "code",
   "execution_count": 24,
   "metadata": {},
   "outputs": [
    {
     "data": {
      "text/html": [
       "<div>\n",
       "<style scoped>\n",
       "    .dataframe tbody tr th:only-of-type {\n",
       "        vertical-align: middle;\n",
       "    }\n",
       "\n",
       "    .dataframe tbody tr th {\n",
       "        vertical-align: top;\n",
       "    }\n",
       "\n",
       "    .dataframe thead th {\n",
       "        text-align: right;\n",
       "    }\n",
       "</style>\n",
       "<table border=\"1\" class=\"dataframe\">\n",
       "  <thead>\n",
       "    <tr style=\"text-align: right;\">\n",
       "      <th></th>\n",
       "      <th>index</th>\n",
       "      <th>timestamp</th>\n",
       "      <th>rssi</th>\n",
       "      <th>frequency</th>\n",
       "      <th>iq</th>\n",
       "      <th>Switch Order</th>\n",
       "      <th>Angle</th>\n",
       "      <th>Antenna</th>\n",
       "      <th>TAG</th>\n",
       "      <th>Entrada</th>\n",
       "      <th>pref</th>\n",
       "      <th>p1</th>\n",
       "      <th>p2</th>\n",
       "      <th>p3</th>\n",
       "      <th>step</th>\n",
       "      <th>p2-p1</th>\n",
       "      <th>p3-p2</th>\n",
       "      <th>p3-p1</th>\n",
       "    </tr>\n",
       "  </thead>\n",
       "  <tbody>\n",
       "    <tr>\n",
       "      <th>14570</th>\n",
       "      <td>14570</td>\n",
       "      <td>2024-08-23 10:30:36.184000+00:00</td>\n",
       "      <td>-65</td>\n",
       "      <td>2402</td>\n",
       "      <td>[2, -216, 208, 53, -86, 198, -183, -127, 148, ...</td>\n",
       "      <td>2-2-0-5-6</td>\n",
       "      <td>180</td>\n",
       "      <td>2</td>\n",
       "      <td>C</td>\n",
       "      <td>2</td>\n",
       "      <td>[-1.5615373321327735, 0.24949840636135495, 1.9...</td>\n",
       "      <td>[1.3473197256542635, -0.7714130612325663, -2.9...</td>\n",
       "      <td>[1.556037250944876, -0.6598484262889226, -2.95...</td>\n",
       "      <td>[0.9188468782992611, -1.2820287305981748, 2.79...</td>\n",
       "      <td>1.739042</td>\n",
       "      <td>[0.20871752529061283, 0.11156463494364388, 0.0...</td>\n",
       "      <td>[-0.6371903726456152, -0.6221803043092522, -0....</td>\n",
       "      <td>[-0.42847284735500235, -0.5106156693656088, -0...</td>\n",
       "    </tr>\n",
       "  </tbody>\n",
       "</table>\n",
       "</div>"
      ],
      "text/plain": [
       "       index                        timestamp  rssi  frequency  \\\n",
       "14570  14570 2024-08-23 10:30:36.184000+00:00   -65       2402   \n",
       "\n",
       "                                                      iq Switch Order  Angle  \\\n",
       "14570  [2, -216, 208, 53, -86, 198, -183, -127, 148, ...    2-2-0-5-6    180   \n",
       "\n",
       "       Antenna TAG  Entrada  \\\n",
       "14570        2   C        2   \n",
       "\n",
       "                                                    pref  \\\n",
       "14570  [-1.5615373321327735, 0.24949840636135495, 1.9...   \n",
       "\n",
       "                                                      p1  \\\n",
       "14570  [1.3473197256542635, -0.7714130612325663, -2.9...   \n",
       "\n",
       "                                                      p2  \\\n",
       "14570  [1.556037250944876, -0.6598484262889226, -2.95...   \n",
       "\n",
       "                                                      p3      step  \\\n",
       "14570  [0.9188468782992611, -1.2820287305981748, 2.79...  1.739042   \n",
       "\n",
       "                                                   p2-p1  \\\n",
       "14570  [0.20871752529061283, 0.11156463494364388, 0.0...   \n",
       "\n",
       "                                                   p3-p2  \\\n",
       "14570  [-0.6371903726456152, -0.6221803043092522, -0....   \n",
       "\n",
       "                                                   p3-p1  \n",
       "14570  [-0.42847284735500235, -0.5106156693656088, -0...  "
      ]
     },
     "execution_count": 24,
     "metadata": {},
     "output_type": "execute_result"
    }
   ],
   "source": [
    "#aoa = arccos((phi*c)/(2pi*d*f))\n",
    "sample = data.sample()\n",
    "sample"
   ]
  },
  {
   "cell_type": "code",
   "execution_count": 25,
   "metadata": {},
   "outputs": [],
   "source": [
    "data[\"aoa_p2p1_no\"] = (((data[\"p2-p1\"]-np.pi/2)*3e8)/(2*np.pi*50e-3*data[\"frequency\"]*1e6)).apply(lambda x: np.rad2deg(np.arccos(np.clip(x,-1,1))))\n"
   ]
  },
  {
   "cell_type": "code",
   "execution_count": 26,
   "metadata": {},
   "outputs": [
    {
     "data": {
      "text/plain": [
       "<matplotlib.legend.Legend at 0x7f68507b8130>"
      ]
     },
     "execution_count": 26,
     "metadata": {},
     "output_type": "execute_result"
    },
    {
     "data": {
      "image/png": "[encoded data removed]",
      "text/plain": [
       "<Figure size 1200x1000 with 1 Axes>"
      ]
     },
     "metadata": {},
     "output_type": "display_data"
    }
   ],
   "source": [
    "plt.figure(figsize=(12,10))\n",
    "for angle in range(0,210,30):\n",
    "    aoas = data[data[\"Angle\"] == angle][\"aoa_p2p1_no\"]\n",
    "    aoas= np.concatenate(aoas.to_numpy())\n",
    "    aoas.sort()\n",
    "    plt.plot(aoas,\".\")\n",
    "\n",
    "plt.legend([*range(0,210,30)])"
   ]
  },
  {
   "cell_type": "code",
   "execution_count": 27,
   "metadata": {},
   "outputs": [
    {
     "ename": "SyntaxError",
     "evalue": "invalid syntax (2817173439.py, line 1)",
     "output_type": "error",
     "traceback": [
      "\u001b[0;36m  Cell \u001b[0;32mIn[27], line 1\u001b[0;36m\u001b[0m\n\u001b[0;31m    str(angle)data[\"aoa_p2p1_no\"]\u001b[0m\n\u001b[0m              ^\u001b[0m\n\u001b[0;31mSyntaxError\u001b[0m\u001b[0;31m:\u001b[0m invalid syntax\n"
     ]
    }
   ],
   "source": [
    "str(angle)data[\"aoa_p2p1_no\"]"
   ]
  },
  {
   "cell_type": "code",
   "execution_count": 508,
   "metadata": {},
   "outputs": [
    {
     "data": {
      "text/plain": [
       "9096     [72.00511869894508, 66.76515888789822, 70.7038...\n",
       "9097     [91.43943265113576, 93.90268351517764, 96.9570...\n",
       "9098     [74.29800725579796, 75.63476044469608, 70.9958...\n",
       "9099     [69.61399464391016, 70.95724433177736, 71.8691...\n",
       "9100     [73.84016026054192, 75.63144499801507, 72.1839...\n",
       "                               ...                        \n",
       "18957    [172.4673851357574, 177.47793856800664, 160.37...\n",
       "18958    [180.0, 162.7906648581977, 180.0, 175.67844546...\n",
       "18959    [166.59231637845332, 180.0, 163.68964419718068...\n",
       "18960    [180.0, 163.1209788060048, 154.36711007845526,...\n",
       "18961    [169.745991830652, 180.0, 170.87689810756444, ...\n",
       "Name: aoa_p2p1_no, Length: 9866, dtype: object"
      ]
     },
     "execution_count": 508,
     "metadata": {},
     "output_type": "execute_result"
    }
   ],
   "source": [
    "data[\"aoa_p2p1_no\"]"
   ]
  },
  {
   "cell_type": "code",
   "execution_count": 28,
   "metadata": {},
   "outputs": [
    {
     "data": {
      "text/plain": [
       "5.0"
      ]
     },
     "execution_count": 28,
     "metadata": {},
     "output_type": "execute_result"
    }
   ],
   "source": [
    "(len(data[\"iq\"].iloc[0])/2 - 8 ) // 6"
   ]
  },
  {
   "cell_type": "code",
   "execution_count": 29,
   "metadata": {},
   "outputs": [
    {
     "data": {
      "text/plain": [
       "4.0"
      ]
     },
     "execution_count": 29,
     "metadata": {},
     "output_type": "execute_result"
    }
   ],
   "source": [
    "( len(data[\"iq\"].iloc[0])/2 - 8 ) % 6"
   ]
  },
  {
   "cell_type": "code",
   "execution_count": 29,
   "metadata": {},
   "outputs": [
    {
     "data": {
      "text/plain": [
       "34.0"
      ]
     },
     "execution_count": 29,
     "metadata": {},
     "output_type": "execute_result"
    }
   ],
   "source": [
    "len(data[\"iq\"].iloc[0])/2-\n",
    "\n",
    "\n",
    "\n"
   ]
  },
  {
   "cell_type": "code",
   "execution_count": null,
   "metadata": {},
   "outputs": [],
   "source": []
  }
 ],
 "metadata": {
  "kernelspec": {
   "display_name": "Python 3",
   "language": "python",
   "name": "python3"
  },
  "language_info": {
   "codemirror_mode": {
    "name": "ipython",
    "version": 3
   },
   "file_extension": ".py",
   "mimetype": "text/x-python",
   "name": "python",
   "nbconvert_exporter": "python",
   "pygments_lexer": "ipython3",
   "version": "3.10.12"
  }
 },
 "nbformat": 4,
 "nbformat_minor": 2
}
