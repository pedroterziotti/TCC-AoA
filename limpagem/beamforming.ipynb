{
 "cells": [
  {
   "cell_type": "markdown",
   "metadata": {},
   "source": [
    "Calculando AoA das nossas amostras por alguns metodods https://pysdr.org/content/doa.html"
   ]
  },
  {
   "cell_type": "code",
   "execution_count": 2,
   "metadata": {},
   "outputs": [
    {
     "data": {
      "text/html": [
       "<div>\n",
       "<style scoped>\n",
       "    .dataframe tbody tr th:only-of-type {\n",
       "        vertical-align: middle;\n",
       "    }\n",
       "\n",
       "    .dataframe tbody tr th {\n",
       "        vertical-align: top;\n",
       "    }\n",
       "\n",
       "    .dataframe thead th {\n",
       "        text-align: right;\n",
       "    }\n",
       "</style>\n",
       "<table border=\"1\" class=\"dataframe\">\n",
       "  <thead>\n",
       "    <tr style=\"text-align: right;\">\n",
       "      <th></th>\n",
       "      <th>index</th>\n",
       "      <th>mac</th>\n",
       "      <th>timestamp</th>\n",
       "      <th>no</th>\n",
       "      <th>rssi</th>\n",
       "      <th>raw</th>\n",
       "      <th>Angle</th>\n",
       "      <th>Distance</th>\n",
       "      <th>frequency</th>\n",
       "      <th>iq</th>\n",
       "      <th>samples</th>\n",
       "      <th>phase_diffs</th>\n",
       "      <th>aoa_no</th>\n",
       "      <th>aoa_minus</th>\n",
       "      <th>aoa_plus</th>\n",
       "    </tr>\n",
       "  </thead>\n",
       "  <tbody>\n",
       "    <tr>\n",
       "      <th>764</th>\n",
       "      <td>149</td>\n",
       "      <td>c300000a7a63</td>\n",
       "      <td>2024-10-04 16:03:19.994</td>\n",
       "      <td>0</td>\n",
       "      <td>-54</td>\n",
       "      <td>0201061bff3906cafb0114f6ffe2fffd00000000000000...</td>\n",
       "      <td>75</td>\n",
       "      <td>200</td>\n",
       "      <td>2426</td>\n",
       "      <td>[-190, 56, -10, -203, 191, 36, -86, 180, -152,...</td>\n",
       "      <td>{'ref': [{'imag': 56.0, 'real': -190.0}, {'ima...</td>\n",
       "      <td>{'a2-a1': [2.6744354017000003, 2.7765327113, -...</td>\n",
       "      <td>{'aoa_12': [None, None, None, None, None, None...</td>\n",
       "      <td>{'aoa_32': [105.3230534599, 108.5333363784, 10...</td>\n",
       "      <td>{'aoa_12': [90.5847103508, 88.2585027188, 92.0...</td>\n",
       "    </tr>\n",
       "  </tbody>\n",
       "</table>\n",
       "</div>"
      ],
      "text/plain": [
       "     index           mac               timestamp  no  rssi  \\\n",
       "764    149  c300000a7a63 2024-10-04 16:03:19.994   0   -54   \n",
       "\n",
       "                                                   raw  Angle  Distance  \\\n",
       "764  0201061bff3906cafb0114f6ffe2fffd00000000000000...     75       200   \n",
       "\n",
       "     frequency                                                 iq  \\\n",
       "764       2426  [-190, 56, -10, -203, 191, 36, -86, 180, -152,...   \n",
       "\n",
       "                                               samples  \\\n",
       "764  {'ref': [{'imag': 56.0, 'real': -190.0}, {'ima...   \n",
       "\n",
       "                                           phase_diffs  \\\n",
       "764  {'a2-a1': [2.6744354017000003, 2.7765327113, -...   \n",
       "\n",
       "                                                aoa_no  \\\n",
       "764  {'aoa_12': [None, None, None, None, None, None...   \n",
       "\n",
       "                                             aoa_minus  \\\n",
       "764  {'aoa_32': [105.3230534599, 108.5333363784, 10...   \n",
       "\n",
       "                                              aoa_plus  \n",
       "764  {'aoa_12': [90.5847103508, 88.2585027188, 92.0...  "
      ]
     },
     "execution_count": 2,
     "metadata": {},
     "output_type": "execute_result"
    }
   ],
   "source": [
    "import numpy as np\n",
    "import pandas as pd\n",
    "from matplotlib import pyplot as plt\n",
    "from scipy import stats\n",
    "\n",
    "data =  pd.read_json(\"./data.json\")\n",
    "sample =data.sample()\n",
    "sample"
   ]
  },
  {
   "cell_type": "markdown",
   "metadata": {},
   "source": [
    "# Conventional/Delayed-sum Beam-forming"
   ]
  },
  {
   "cell_type": "code",
   "execution_count": null,
   "metadata": {},
   "outputs": [],
   "source": []
  },
  {
   "cell_type": "code",
   "execution_count": null,
   "metadata": {},
   "outputs": [],
   "source": []
  },
  {
   "cell_type": "code",
   "execution_count": null,
   "metadata": {},
   "outputs": [],
   "source": []
  },
  {
   "cell_type": "code",
   "execution_count": null,
   "metadata": {},
   "outputs": [],
   "source": []
  },
  {
   "cell_type": "code",
   "execution_count": null,
   "metadata": {},
   "outputs": [],
   "source": []
  },
  {
   "cell_type": "code",
   "execution_count": null,
   "metadata": {},
   "outputs": [],
   "source": []
  },
  {
   "cell_type": "code",
   "execution_count": null,
   "metadata": {},
   "outputs": [],
   "source": []
  },
  {
   "cell_type": "code",
   "execution_count": null,
   "metadata": {},
   "outputs": [],
   "source": []
  },
  {
   "cell_type": "code",
   "execution_count": null,
   "metadata": {},
   "outputs": [],
   "source": []
  },
  {
   "cell_type": "code",
   "execution_count": null,
   "metadata": {},
   "outputs": [],
   "source": []
  }
 ],
 "metadata": {
  "kernelspec": {
   "display_name": "Python 3",
   "language": "python",
   "name": "python3"
  },
  "language_info": {
   "codemirror_mode": {
    "name": "ipython",
    "version": 3
   },
   "file_extension": ".py",
   "mimetype": "text/x-python",
   "name": "python",
   "nbconvert_exporter": "python",
   "pygments_lexer": "ipython3",
   "version": "3.11.2"
  }
 },
 "nbformat": 4,
 "nbformat_minor": 2
}
