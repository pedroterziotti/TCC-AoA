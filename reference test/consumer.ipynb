{
 "cells": [
  {
   "cell_type": "code",
   "execution_count": 27,
   "metadata": {},
   "outputs": [
    {
     "name": "stdout",
     "output_type": "stream",
     "text": [
      "Conectado com o código de resultado 0\n",
      "[{'gateway': 'ac233fc09283', 'timestamp': '2024-09-24T09:28:32.049Z', 'locator': [True, False, False, False]}, {'mac': 'c300000a7a63', 'timestamp': '2024-09-24T09:28:32.127Z', 'no': 0, 'rssi': -46, 'raw': '0201061bff3906cafb011400f5ffe700470000000000000000e721e4c477ea', 'aoa': {'frequency': 2426, 'iq': [-91, 151, -147, -114, 127, -126, 93, 153, -170, 53, -25, -183, 180, 4, -37, 180, 71, -113, -119, 39, 75, -23, -133, -25, 72, 100, -48, -62, 31, 135, 62, -113, -37, 67, 108, -76, -126, -9, 78, 6, -120, -68, 31, 121, -17, -75, 10, 140, 90, -90, -62, 46, 137, -45, -117, -47, 71, 33, -90, -109, -4, 127, 2, -77, -67, 120, 114, -51, -72, 28, 140, 2, -91, -87, 51, 54, -57, -125, -40, 115, 31, -71, -100, 100]}}]\n",
      "[{'gateway': 'ac233fc09283', 'timestamp': '2024-09-24T09:28:36.049Z', 'locator': [True, False, False, False]}, {'mac': 'c300000a7a63', 'timestamp': '2024-09-24T09:28:36.140Z', 'no': 0, 'rssi': -45, 'raw': '0201061bff3906cafb0114f500e7ff47000000000000000000e72273639af9', 'aoa': {'frequency': 2426, 'iq': [169, 67, -91, 149, -139, -122, 139, -109, 66, 165, -175, 53, -9, -177, 182, 28, -129, -61, 46, 123, -30, -70, -16, 139, 90, -88, -62, 46, 133, -42, -111, -61, 73, 31, -99, -100, 5, 125, 10, -79, -51, 132, 113, -48, -74, 27, 137, 6, -84, -98, 56, 56, -46, -135, -41, 117, 30, -74, -96, 102, 123, 5, -76, 0, 130, 50, -63, -107, 30, 71, -10, -138, -82, 97, 50, -59, -128, 60, 122, 28, -73, -24, 104, 92]}}]\n"
     ]
    }
   ],
   "source": [
    "import paho.mqtt.client as mqtt\n",
    "import json\n",
    "import numpy as np\n",
    "import datetime\n",
    "\n",
    "#Capture time = 2 min\n",
    "# Tempo de envio 500ms \n",
    "\n",
    "SAMPLING_SPACING = 4\n",
    "\n",
    "data_list = []\n",
    "FILE = f\"SAMPLING_SPACING_{SAMPLING_SPACING}\"\n",
    "\n",
    "# Callback chamado quando o cliente recebe a resposta CONNACK do servidor.\n",
    "def on_connect(client, userdata, flags, rc):\n",
    "    print(\"Conectado com o código de resultado \"+str(rc))\n",
    "    client.subscribe(\"/gw/ac233fc09283/status\")\n",
    "    \n",
    "# Callback chamado quando uma mensagem PUBLISH é recebida do servidor.\n",
    "def on_message(client, userdata, msg):\n",
    "    global data_list\n",
    "    global now\n",
    "    data = json.loads(msg.payload)\n",
    "    data_list.append(data)\n",
    "    print(data_list[-1])\n",
    "    if(now + datetime.timedelta(seconds=120) < datetime.datetime.now() ):\n",
    "        raise(Exception)\n",
    "\n",
    "client = mqtt.Client()\n",
    "client.on_connect = on_connect\n",
    "client.on_message = on_message\n",
    "\n",
    "client.connect(\"broker.hivemq.com\", 1883, 60)\n",
    "\n",
    "try:\n",
    "    now = datetime.datetime.now()\n",
    "    client.loop_forever()\n",
    "except BaseException:\n",
    "    with open(f\"./data/{FILE}.json\",\"w\") as file:\n",
    "        #pass\n",
    "        json.dump(data_list,file)"
   ]
  },
  {
   "cell_type": "code",
   "execution_count": 28,
   "metadata": {},
   "outputs": [
    {
     "data": {
      "text/plain": [
       "array([ 2.11316135, -2.48196391, -0.78144561,  1.02462976,  2.8393778 ,\n",
       "       -1.70656788,  0.02221857,  1.77352802])"
      ]
     },
     "execution_count": 28,
     "metadata": {},
     "output_type": "execute_result"
    }
   ],
   "source": [
    "from matplotlib import pyplot as plt\n",
    "\n",
    "def ref_sampler(iq: list):\n",
    "    data = []\n",
    "    for i in range(0,16,2):\n",
    "        data.append(np.angle(complex(iq[i],iq[i+1])))\n",
    "    return np.array(data)\n",
    "\n",
    "def pm(x:float):\n",
    "    #Keeps the angle between +- pi\n",
    "    return (x + np.pi) % (2 * np.pi) - np.pi #coomentg - np.pi to keep it between 0 => 2pi\n",
    "\n",
    "data = ref_sampler( data_list[0][1][\"aoa\"][\"iq\"])\n",
    "data"
   ]
  },
  {
   "cell_type": "code",
   "execution_count": 30,
   "metadata": {},
   "outputs": [
    {
     "data": {
      "text/plain": [
       "array([-263.28128378,   97.43252135,  103.48049665,  103.97740349,\n",
       "       -260.46350168,   99.05216721,  100.3426401 ])"
      ]
     },
     "execution_count": 30,
     "metadata": {},
     "output_type": "execute_result"
    }
   ],
   "source": [
    "# we will always do ahead - before\n",
    "pstep = np.rad2deg((data[1:]-data[:-1]))\n",
    "pstep\n"
   ]
  },
  {
   "cell_type": "code",
   "execution_count": null,
   "metadata": {},
   "outputs": [],
   "source": []
  },
  {
   "cell_type": "code",
   "execution_count": null,
   "metadata": {},
   "outputs": [],
   "source": []
  }
 ],
 "metadata": {
  "kernelspec": {
   "display_name": "Python 3",
   "language": "python",
   "name": "python3"
  },
  "language_info": {
   "codemirror_mode": {
    "name": "ipython",
    "version": 3
   },
   "file_extension": ".py",
   "mimetype": "text/x-python",
   "name": "python",
   "nbconvert_exporter": "python",
   "pygments_lexer": "ipython3",
   "version": "3.10.12"
  }
 },
 "nbformat": 4,
 "nbformat_minor": 2
}
